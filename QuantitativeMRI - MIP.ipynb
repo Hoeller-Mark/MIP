{
 "cells": [
  {
   "cell_type": "markdown",
   "id": "13d19247-824a-4373-be98-b17a6fb6f574",
   "metadata": {},
   "source": [
    "<div>\n",
    "    <img src=\"img/Logo.png\" align=\"right\" width=\"200\"</img>\n",
    "</div>\n",
    "<br/> \n",
    "\n",
    "# MIP - Maximum Intensity Projection"
   ]
  },
  {
   "cell_type": "markdown",
   "id": "6847c9bc-2612-4266-8be8-3fa7de64683a",
   "metadata": {},
   "source": [
    "In this exercise, we focus on visualizing a dataset. \n",
    "For this purpose we will use the Maximum Intensity Projection (MIP)."
   ]
  },
  {
   "cell_type": "markdown",
   "id": "55de8dd0-ade5-4bd9-9d65-a564488ef7b0",
   "metadata": {},
   "source": [
    "*\"In scientific visualization, a maximum intensity projection (MIP) is a method for 3D data that projects in the visualization plane the voxels with maximum intensity that fall in the way of parallel rays traced from the viewpoint to the plane of projection.\"* (https://en.wikipedia.org/wiki/Maximum_intensity_projection)"
   ]
  },
  {
   "cell_type": "markdown",
   "id": "6300ef30-8184-4449-b65a-5ed20224d2b5",
   "metadata": {},
   "source": [
    "In principle, orthogonal rays are traced through every voxel of the volumetric data set and the maximum along the ray is projected onto the image plane (see image below). "
   ]
  },
  {
   "cell_type": "markdown",
   "id": "c26ed696-60f1-4ae8-b0da-c850322fdbf4",
   "metadata": {},
   "source": [
    "<center><img src=\"./img/MIP-Example.png\"></center>"
   ]
  },
  {
   "cell_type": "markdown",
   "id": "e918407c-a8e7-4b0b-887b-d02221f26481",
   "metadata": {},
   "source": [
    "## 1. Preparation"
   ]
  },
  {
   "cell_type": "markdown",
   "id": "d5c8bd02-ba5d-4ad2-adb5-553424f7e0be",
   "metadata": {},
   "source": [
    "### 1.1 Convert DICOM data into NIfTI"
   ]
  },
  {
   "cell_type": "markdown",
   "id": "fa51e1cf-ce73-4207-914a-8ce2177bfd8c",
   "metadata": {},
   "source": [
    "To be able to work with the dataset in an uncomplicated way, we have to convert it from DICOM to NIfTI. **Herefor, run the following lines of code!** Alternatively, you can use the separate tool MRIcron (https://www.nitrc.org/projects/mricron)."
   ]
  },
  {
   "cell_type": "code",
   "execution_count": null,
   "id": "5901afa3-3e64-40a8-9f15-1cbd00972d58",
   "metadata": {},
   "outputs": [],
   "source": [
    "pip install dicom2nifti"
   ]
  },
  {
   "cell_type": "code",
   "execution_count": null,
   "id": "4efc4f11-db30-40c7-84bf-6f9536910878",
   "metadata": {},
   "outputs": [],
   "source": [
    "import dicom2nifti"
   ]
  },
  {
   "cell_type": "code",
   "execution_count": null,
   "id": "b2b737bf-0e47-4c1a-8513-47968e7e1654",
   "metadata": {},
   "outputs": [],
   "source": [
    "dicom2nifti.convert_directory(dicom_directory, output_folder)"
   ]
  },
  {
   "cell_type": "markdown",
   "id": "af2da6c3-d0cb-455f-a9a8-66679c1baef9",
   "metadata": {},
   "source": [
    "### 1.2 Import dataset"
   ]
  },
  {
   "cell_type": "markdown",
   "id": "0f892012-f40c-4478-873d-17ce6f8a82f0",
   "metadata": {},
   "source": [
    "In order to process the voxel data, they must be loaded into a suitable data structure. **To do this, run the following lines of code to load the data into the three-dimensional array $dataset$!** <br>For more information see: https://rylezhou.medium.com/how-to-plot-display-nifti-nii-medical-images-in-python-1368443fed77"
   ]
  },
  {
   "cell_type": "code",
   "execution_count": null,
   "id": "d0d3eb03-67af-4579-947e-9a49c52f7d00",
   "metadata": {},
   "outputs": [],
   "source": [
    "pip install nibabel"
   ]
  },
  {
   "cell_type": "code",
   "execution_count": null,
   "id": "01422ddb-aa00-477d-952f-0158e29460e8",
   "metadata": {},
   "outputs": [],
   "source": [
    "import nibabel as nib"
   ]
  },
  {
   "cell_type": "code",
   "execution_count": null,
   "id": "a20e0852-f12b-4894-acdd-837f677fef65",
   "metadata": {},
   "outputs": [],
   "source": [
    "dataset = nib.load(nifti_file).get_fdata()"
   ]
  },
  {
   "cell_type": "markdown",
   "id": "1995d475-6d10-4d4a-95b3-509f95532a62",
   "metadata": {},
   "source": [
    "## 2. Task - Calculate MIP"
   ]
  },
  {
   "cell_type": "markdown",
   "id": "e46cc39b-236e-4408-95a7-363f71fafa64",
   "metadata": {},
   "source": [
    "Now that we have completed the preparation, it is your turn to calculate the MIP. **Calculate the MIP in axial, frontal and sagittal orientation!**"
   ]
  },
  {
   "cell_type": "markdown",
   "id": "6c6c19fc-820b-43c1-9d51-6c10b8a534fe",
   "metadata": {},
   "source": [
    "You are working with CT-data of an abdomen. **Which structures do you expect to be highlighted by the MIP?**"
   ]
  },
  {
   "cell_type": "code",
   "execution_count": null,
   "id": "a7572afa-a2a9-4242-a49b-b38f94c31aaf",
   "metadata": {},
   "outputs": [],
   "source": []
  },
  {
   "cell_type": "markdown",
   "id": "b5cbc70a-ba31-42ac-9c4b-8cf50d6d8607",
   "metadata": {},
   "source": [
    "### 2.1 Axial"
   ]
  },
  {
   "cell_type": "code",
   "execution_count": null,
   "id": "0b96bb9d-a1ca-4d46-bbf5-f81a4f5d30ac",
   "metadata": {},
   "outputs": [],
   "source": []
  },
  {
   "cell_type": "markdown",
   "id": "b436702c-e5fe-4c62-ac62-49c72f04c849",
   "metadata": {},
   "source": [
    "### 2.2 Frontal"
   ]
  },
  {
   "cell_type": "code",
   "execution_count": null,
   "id": "06b516b0-7281-4dda-82fa-4ed8c927e9b6",
   "metadata": {},
   "outputs": [],
   "source": []
  },
  {
   "cell_type": "markdown",
   "id": "29f3d722-8eaa-4bf7-9b92-26404359132d",
   "metadata": {},
   "source": [
    "### 2.3 Sagittal"
   ]
  },
  {
   "cell_type": "code",
   "execution_count": null,
   "id": "38593bb6-742b-49a8-8539-93c5ec9c85db",
   "metadata": {},
   "outputs": [],
   "source": []
  },
  {
   "cell_type": "markdown",
   "id": "5beb9b2e-9413-4c5b-b37c-d28a576df6f2",
   "metadata": {},
   "source": [
    "## 3. Task - Application of MIP in 3D Slicer"
   ]
  },
  {
   "cell_type": "markdown",
   "id": "48b9a3af-8019-44e0-8bcd-db63faa5e62f",
   "metadata": {},
   "source": [
    "Next we want to load the CT dataset into 3D Slicer and apply a MIP to it. <br>**Use the following settings to start the virtual machine with 3D Slicer in JupyterLab:**"
   ]
  },
  {
   "cell_type": "markdown",
   "id": "5ca661ad-e02f-4266-87c2-05fa11422cd8",
   "metadata": {},
   "source": [
    "<center><img src=\"./img/Jupyterhub-Slicer.PNG\"></center>"
   ]
  },
  {
   "cell_type": "markdown",
   "id": "f8a915da-dae0-4bb5-8504-864e20775282",
   "metadata": {},
   "source": [
    "After you started 3D Slicer, **select your dataset in the DICOM-Module and import it**. Afterwards **switch to the Volume Rendering-Module** and **select a suitable preset** to apply a MIP to the dataset. **Parameterize the method** (*Shift*) so that you see a representation of the bone structure. **What are the benefits of a three-dimensional display compared to your images in axial, frontal and sagittal orientation?**"
   ]
  },
  {
   "cell_type": "code",
   "execution_count": null,
   "id": "3a2fa1d5-f237-4ca9-b6bd-caa8940bf45c",
   "metadata": {},
   "outputs": [],
   "source": []
  }
 ],
 "metadata": {
  "kernelspec": {
   "display_name": "Python 3",
   "language": "python",
   "name": "python3"
  },
  "language_info": {
   "codemirror_mode": {
    "name": "ipython",
    "version": 3
   },
   "file_extension": ".py",
   "mimetype": "text/x-python",
   "name": "python",
   "nbconvert_exporter": "python",
   "pygments_lexer": "ipython3",
   "version": "3.9.2"
  }
 },
 "nbformat": 4,
 "nbformat_minor": 5
}
